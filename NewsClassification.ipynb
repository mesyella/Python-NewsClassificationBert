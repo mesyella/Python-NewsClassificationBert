{
 "cells": [
  {
   "cell_type": "markdown",
   "metadata": {
    "id": "LNgg9bQlkyHe"
   },
   "source": [
    "# Deep Learning Final Exam"
   ]
  },
  {
   "cell_type": "markdown",
   "metadata": {
    "id": "mFih7BT7k-Y8"
   },
   "source": [
    "## Mesyella/2201793281"
   ]
  },
  {
   "cell_type": "markdown",
   "metadata": {
    "id": "wYL33SH1lA1o"
   },
   "source": [
    "### 1. News Category Classification using BERT "
   ]
  },
  {
   "cell_type": "markdown",
   "metadata": {
    "id": "oa5lvN4zAi5i"
   },
   "source": [
    "disini saya membuat model deep learning untuk mengkategorikan berita berbahasa indonesia ke dalam 2 kategori yaitu culture dan kesehatan menggunakan indoBert dari transformer huggingface"
   ]
  },
  {
   "cell_type": "markdown",
   "metadata": {
    "id": "fKn0BHILAtBR"
   },
   "source": [
    "*apabila menjalankan melalui google colab harap masukkan news.csv dan membuat folder bernama Data*"
   ]
  },
  {
   "cell_type": "markdown",
   "metadata": {},
   "source": [
    "### A. Code "
   ]
  },
  {
   "cell_type": "markdown",
   "metadata": {
    "id": "Nlv3AipfnMm7"
   },
   "source": [
    "### Install Library Transformer"
   ]
  },
  {
   "cell_type": "markdown",
   "metadata": {
    "id": "3Mku6ysanSfK"
   },
   "source": [
    "Untuk menggunakan pre-trained model BERT, kita perlu menginstall library transformer yang berasal dari huggingface."
   ]
  },
  {
   "cell_type": "code",
   "execution_count": 1,
   "metadata": {
    "colab": {
     "base_uri": "https://localhost:8080/"
    },
    "id": "LDcWHxqeN3xK",
    "outputId": "269c23f0-79a5-401c-c109-8b536cc8b5a3"
   },
   "outputs": [
    {
     "name": "stdout",
     "output_type": "stream",
     "text": [
      "Requirement already satisfied: transformers in /usr/local/lib/python3.6/dist-packages (4.2.2)\n",
      "Requirement already satisfied: filelock in /usr/local/lib/python3.6/dist-packages (from transformers) (3.0.12)\n",
      "Requirement already satisfied: packaging in /usr/local/lib/python3.6/dist-packages (from transformers) (20.8)\n",
      "Requirement already satisfied: tqdm>=4.27 in /usr/local/lib/python3.6/dist-packages (from transformers) (4.41.1)\n",
      "Requirement already satisfied: sacremoses in /usr/local/lib/python3.6/dist-packages (from transformers) (0.0.43)\n",
      "Requirement already satisfied: numpy in /usr/local/lib/python3.6/dist-packages (from transformers) (1.19.5)\n",
      "Requirement already satisfied: dataclasses; python_version < \"3.7\" in /usr/local/lib/python3.6/dist-packages (from transformers) (0.8)\n",
      "Requirement already satisfied: regex!=2019.12.17 in /usr/local/lib/python3.6/dist-packages (from transformers) (2019.12.20)\n",
      "Requirement already satisfied: requests in /usr/local/lib/python3.6/dist-packages (from transformers) (2.23.0)\n",
      "Requirement already satisfied: importlib-metadata; python_version < \"3.8\" in /usr/local/lib/python3.6/dist-packages (from transformers) (3.4.0)\n",
      "Requirement already satisfied: tokenizers==0.9.4 in /usr/local/lib/python3.6/dist-packages (from transformers) (0.9.4)\n",
      "Requirement already satisfied: pyparsing>=2.0.2 in /usr/local/lib/python3.6/dist-packages (from packaging->transformers) (2.4.7)\n",
      "Requirement already satisfied: six in /usr/local/lib/python3.6/dist-packages (from sacremoses->transformers) (1.15.0)\n",
      "Requirement already satisfied: joblib in /usr/local/lib/python3.6/dist-packages (from sacremoses->transformers) (1.0.0)\n",
      "Requirement already satisfied: click in /usr/local/lib/python3.6/dist-packages (from sacremoses->transformers) (7.1.2)\n",
      "Requirement already satisfied: certifi>=2017.4.17 in /usr/local/lib/python3.6/dist-packages (from requests->transformers) (2020.12.5)\n",
      "Requirement already satisfied: urllib3!=1.25.0,!=1.25.1,<1.26,>=1.21.1 in /usr/local/lib/python3.6/dist-packages (from requests->transformers) (1.24.3)\n",
      "Requirement already satisfied: idna<3,>=2.5 in /usr/local/lib/python3.6/dist-packages (from requests->transformers) (2.10)\n",
      "Requirement already satisfied: chardet<4,>=3.0.2 in /usr/local/lib/python3.6/dist-packages (from requests->transformers) (3.0.4)\n",
      "Requirement already satisfied: typing-extensions>=3.6.4; python_version < \"3.8\" in /usr/local/lib/python3.6/dist-packages (from importlib-metadata; python_version < \"3.8\"->transformers) (3.7.4.3)\n",
      "Requirement already satisfied: zipp>=0.5 in /usr/local/lib/python3.6/dist-packages (from importlib-metadata; python_version < \"3.8\"->transformers) (3.4.0)\n"
     ]
    }
   ],
   "source": [
    "!pip install transformers"
   ]
  },
  {
   "cell_type": "markdown",
   "metadata": {
    "id": "xrZVQU3OogUn"
   },
   "source": [
    "### Import library yang dibutuhkan"
   ]
  },
  {
   "cell_type": "markdown",
   "metadata": {
    "id": "fGC4BdhDor6M"
   },
   "source": [
    "lalu kemudian saya mengimport library-library yang dibutuhkan untuk membuat news classification. Disini untuk model yang akan digunakan adalah BertForSequenceClassification dimana kita akan mengklasifikasi apakah sebuah sequence berita memiliki kategori culture atau kesehatan. Tokenizer yang digunakan juga berasal dari BERT yaitu BertTokenizer."
   ]
  },
  {
   "cell_type": "code",
   "execution_count": 2,
   "metadata": {
    "id": "9q91LRTWOCtH"
   },
   "outputs": [],
   "source": [
    "# Libraries\n",
    "import matplotlib.pyplot as plt\n",
    "import pandas as pd\n",
    "import torch\n",
    "import string\n",
    "from sklearn.model_selection import train_test_split\n",
    "# Preliminaries\n",
    "from torchtext.data import Field, TabularDataset, BucketIterator, Iterator\n",
    "# Models\n",
    "import torch.nn as nn\n",
    "from transformers import BertTokenizer, BertForSequenceClassification\n",
    "# Training\n",
    "import torch.optim as optim\n",
    "# Evaluation\n",
    "from sklearn.metrics import accuracy_score, classification_report, confusion_matrix\n",
    "import seaborn as sns"
   ]
  },
  {
   "cell_type": "markdown",
   "metadata": {
    "id": "iTnxf5vQptYW"
   },
   "source": [
    "Code dibawah untuk menampilkan device yang digunakan apabila tersedia gpu maka akan menggunakan gpu apabila tidak maka menggunakan cpu"
   ]
  },
  {
   "cell_type": "code",
   "execution_count": 3,
   "metadata": {
    "colab": {
     "base_uri": "https://localhost:8080/"
    },
    "id": "LVCJucdXOFul",
    "outputId": "89f082e0-00f3-4163-f0e0-c44da5c29260"
   },
   "outputs": [
    {
     "name": "stdout",
     "output_type": "stream",
     "text": [
      "cuda:0\n"
     ]
    }
   ],
   "source": [
    "device = torch.device('cuda:0' if torch.cuda.is_available() else 'cpu')\n",
    "print(device)"
   ]
  },
  {
   "cell_type": "markdown",
   "metadata": {
    "id": "g7zNvyVeqtdF"
   },
   "source": [
    "### Preprocessing Dataset"
   ]
  },
  {
   "cell_type": "markdown",
   "metadata": {
    "id": "58Hd1nzzrEpZ"
   },
   "source": [
    "Untuk tokenizer, saya menggunakan 'indobert-base-uncased' dari indoNLU dimana model ini merupakan model bert untuk Bahasa Indonesia yang di trained menggunakan 220M kata dari wikipedia, artikel, dan web corpus. Model ini ditrain sebanyak 2.4M langkah (180 epochs). Dokumentasi dapat dilihat pada https://huggingface.co/indolem/indobert-base-uncased "
   ]
  },
  {
   "cell_type": "markdown",
   "metadata": {
    "id": "KCJfmdnEBXAk"
   },
   "source": [
    "Saya menggunakan tokenizer dan model dari Indobert dikarenakan dataset yang digunakan adalah berita yang berbahasa indonesia yang dapat dilihat pada news.csv. Untuk train-test ratio saya menggunakan 0.6 dan train_valid ratio saya menggunakan 0.8 dimana ratio ini merupakan ratio dengan hasil terbaik setelah mencoba berbagai ratio lainnya."
   ]
  },
  {
   "cell_type": "code",
   "execution_count": 4,
   "metadata": {
    "id": "tWUOdpPZOHzc"
   },
   "outputs": [],
   "source": [
    "tokenizer = BertTokenizer.from_pretrained(\"indolem/indobert-base-uncased\")\n",
    "path = 'news.csv'\n",
    "train_test_ratio = 0.60\n",
    "train_valid_ratio = 0.80"
   ]
  },
  {
   "cell_type": "markdown",
   "metadata": {
    "id": "JR27x6KpBwY4"
   },
   "source": [
    "Untuk mempersiapkan data agar dapat sesuai dengan input yang dibutuhkan model, saya membuat function untuk preprocessing seperti menghilangkan tanda baca, mengubah seluruh huruf menjadi lowercase, dan melakukan split pada kata."
   ]
  },
  {
   "cell_type": "code",
   "execution_count": 5,
   "metadata": {
    "id": "cQAFrubGORhI"
   },
   "outputs": [],
   "source": [
    "def preprocessing(x):\n",
    "    x = x.lower()\n",
    "    x = x.replace('.', ' ')\n",
    "    x = x.translate(str.maketrans('','', string.punctuation))\n",
    "    x = x.split()\n",
    "    x = ' '.join(x[:])\n",
    "\n",
    "    return x"
   ]
  },
  {
   "cell_type": "markdown",
   "metadata": {
    "id": "CUn7fPXTCIvj"
   },
   "source": [
    "Disini saya membaca data dari news.csv, membuat index baru yang menggabungkan title dan text, mengubah kategori menjadi 1 dan 0 dimana culture akan dianggap 1 dan kesehatan dianggap 0. Dan juga melakukan split data untuk train, test, dan validation."
   ]
  },
  {
   "cell_type": "markdown",
   "metadata": {
    "id": "5_y4-YHFCkxB"
   },
   "source": [
    "Disini saya memastikan data culture dan data kesehatan akan memiliki jumlah yang seimbang pada train, test, dan validation agar model tidak akan condong ke salah satu kategori."
   ]
  },
  {
   "cell_type": "code",
   "execution_count": 6,
   "metadata": {
    "id": "8tBwiHAUOS2a"
   },
   "outputs": [],
   "source": [
    "data = pd.read_csv(path)\n",
    "data['category'] = (data['category'] == 'Culture').astype('int')\n",
    "data['text'] = data['text'].apply(preprocessing)\n",
    "data['title'] = data['title'].apply(preprocessing) \n",
    "data['titletext'] = data['title'] + \". \" + data['text']\n",
    "# data['length'] = data.titletext.str.len()\n",
    "data = data.reindex(columns=['category', 'title', 'text', 'titletext'])\n",
    "data_cult = data[data['category'] == 1]\n",
    "data_kese = data[data['category'] == 0]\n",
    "\n",
    "# Train-test split\n",
    "df_cult_full_train, df_cult_test = train_test_split(data_cult, train_size = train_test_ratio, random_state = 1)\n",
    "df_kese_full_train, df_kese_test = train_test_split(data_kese, train_size = train_test_ratio, random_state = 1)\n",
    "\n",
    "# Train-valid split\n",
    "df_cult_train, df_cult_valid = train_test_split(df_cult_full_train, train_size = train_valid_ratio, random_state = 1)\n",
    "df_kese_train, df_kese_valid = train_test_split(df_kese_full_train, train_size = train_valid_ratio, random_state = 1)\n",
    "\n",
    "# Concatenate splits of different labels\n",
    "df_train = pd.concat([df_cult_train, df_kese_train], ignore_index=True, sort=False)\n",
    "df_valid = pd.concat([df_cult_valid, df_kese_valid], ignore_index=True, sort=False)\n",
    "df_test = pd.concat([df_cult_test, df_kese_test], ignore_index=True, sort=False)\n",
    "\n",
    "# Write preprocessed data\n",
    "df_train.to_csv( '/train.csv', index=False)\n",
    "df_valid.to_csv('/valid.csv', index=False)\n",
    "df_test.to_csv('/test.csv', index=False)"
   ]
  },
  {
   "cell_type": "markdown",
   "metadata": {
    "id": "6RkqAZ5rCt3x"
   },
   "source": [
    "Untuk max sequence length yang digunakan adalah 205 karena jumlah kata dari berita yang terdapat pada dataset berkisar dari 205-1500. Kemudia data dipersiapkan untuk masuk ke dalam model"
   ]
  },
  {
   "cell_type": "code",
   "execution_count": 7,
   "metadata": {
    "id": "3DL0buFbTFzY"
   },
   "outputs": [],
   "source": [
    "# Model parameter\n",
    "MAX_SEQ_LEN = 205\n",
    "PAD_INDEX = tokenizer.convert_tokens_to_ids(tokenizer.pad_token)\n",
    "UNK_INDEX = tokenizer.convert_tokens_to_ids(tokenizer.unk_token)\n",
    "\n",
    "# Fields\n",
    "label_field = Field(sequential=False, use_vocab=False, batch_first=True, dtype=torch.float)\n",
    "text_field = Field(use_vocab=False, tokenize=tokenizer.encode, lower=False, include_lengths=False, batch_first=True,\n",
    "                   fix_length=MAX_SEQ_LEN, pad_token=PAD_INDEX, unk_token=UNK_INDEX)\n",
    "fields = [('category', label_field), ('title', text_field), ('text', text_field), ('titletext', text_field)]\n",
    "\n",
    "# TabularDataset\n",
    "train, valid, test = TabularDataset.splits(path='/', train='train.csv', validation='valid.csv',\n",
    "                                           test='test.csv', format='CSV', fields=fields, skip_header=True)\n",
    "\n",
    "# Iterator\n",
    "train_iter = BucketIterator(train, batch_size=16, sort_key=lambda x: len(x.text),\n",
    "                            device=device, train=True, sort=True, sort_within_batch=True)\n",
    "valid_iter = BucketIterator(valid, batch_size=16, sort_key=lambda x: len(x.text),\n",
    "                            device=device, train=True, sort=True, sort_within_batch=True)\n",
    "test_iter = Iterator(test, batch_size=16, device=device, train=False, shuffle=False, sort=False)"
   ]
  },
  {
   "cell_type": "markdown",
   "metadata": {
    "id": "xTPY4JFmR01x"
   },
   "source": [
    "### BERT Model"
   ]
  },
  {
   "cell_type": "markdown",
   "metadata": {
    "id": "N2qbKMSpRlbk"
   },
   "source": [
    "Kemudian untuk model yang digunakan juga berasal dari 'indobert-base-uncased' dari indoNLU dimana model ini merupakan model bert untuk Bahasa Indonesia yang di trained menggunakan 220M kata dari wikipedia, artikel, dan web corpus. Model ini ditrain sebanyak 2.4M langkah (180 epochs). Dokumentasi dapat dilihat pada https://huggingface.co/indolem/indobert-base-uncased"
   ]
  },
  {
   "cell_type": "markdown",
   "metadata": {
    "id": "t64O92H-dy-c"
   },
   "source": [
    "Pada function forward, dilakukan encoder untuk mengubah sequence kata yang ada menjadi vector representation. Vector ini kemudian akan digunakan untuk model klasifikasi."
   ]
  },
  {
   "cell_type": "code",
   "execution_count": 8,
   "metadata": {
    "id": "NLp3yBjTTJgh"
   },
   "outputs": [],
   "source": [
    "class BERT(nn.Module):\n",
    "    def __init__(self):\n",
    "        super(BERT, self).__init__()  \n",
    "        self.encoder = BertForSequenceClassification.from_pretrained(\"indolem/indobert-base-uncased\")\n",
    "\n",
    "    def forward(self, text, label): \n",
    "        loss, text_fea = self.encoder(text, labels=label)[:2]\n",
    "        return loss, text_fea"
   ]
  },
  {
   "cell_type": "markdown",
   "metadata": {
    "id": "Tx0dG5LheMXZ"
   },
   "source": [
    "### Training"
   ]
  },
  {
   "cell_type": "markdown",
   "metadata": {
    "id": "Juj_9vefeRLQ"
   },
   "source": [
    "Kemudian function dibawah ini untuk save model terbaik dengan membandingkan valid loss yang ada sehingga nantinya akan menghasilkan model dengan valid loss terkecil."
   ]
  },
  {
   "cell_type": "code",
   "execution_count": 9,
   "metadata": {
    "id": "Vroci0AYTLL0"
   },
   "outputs": [],
   "source": [
    "def save_checkpoint(save_path, model, valid_loss):\n",
    "    if save_path == None:\n",
    "        return\n",
    "    \n",
    "    state_dict = {'model_state_dict': model.state_dict(),\n",
    "                  'valid_loss': valid_loss}\n",
    "    \n",
    "    torch.save(state_dict, save_path)\n",
    "    print(f'Model saved to ==> {save_path}')\n",
    "\n",
    "def load_checkpoint(load_path, model):\n",
    "    if load_path==None:\n",
    "        return\n",
    "    \n",
    "    state_dict = torch.load(load_path, map_location=device)\n",
    "    print(f'Model loaded from <== {load_path}')\n",
    "    \n",
    "    model.load_state_dict(state_dict['model_state_dict'])\n",
    "    return state_dict['valid_loss']\n",
    "\n",
    "\n",
    "def save_metrics(save_path, train_loss_list, valid_loss_list, global_steps_list):\n",
    "    if save_path == None:\n",
    "        return\n",
    "    \n",
    "    state_dict = {'train_loss_list': train_loss_list,\n",
    "                  'valid_loss_list': valid_loss_list,\n",
    "                  'global_steps_list': global_steps_list}\n",
    "    \n",
    "    torch.save(state_dict, save_path)\n",
    "    print(f'Model saved to ==> {save_path}')\n",
    "\n",
    "\n",
    "def load_metrics(load_path):\n",
    "    if load_path==None:\n",
    "        return\n",
    "    \n",
    "    state_dict = torch.load(load_path, map_location=device)\n",
    "    print(f'Model loaded from <== {load_path}')\n",
    "    \n",
    "    return state_dict['train_loss_list'], state_dict['valid_loss_list'], state_dict['global_steps_list']"
   ]
  },
  {
   "cell_type": "code",
   "execution_count": 10,
   "metadata": {
    "id": "DhjXvmj8TM-g"
   },
   "outputs": [],
   "source": [
    "# Training Function\n",
    "def train(model,\n",
    "          optimizer,\n",
    "          criterion = nn.BCELoss(),\n",
    "          train_loader = train_iter,\n",
    "          valid_loader = valid_iter,\n",
    "          num_epochs = 10,\n",
    "          eval_every = len(train_iter) // 2,\n",
    "          file_path = 'Data',\n",
    "          best_valid_loss = float(\"Inf\")):\n",
    "    \n",
    "    # initialize running values\n",
    "    running_loss = 0.0\n",
    "    valid_running_loss = 0.0\n",
    "    global_step = 0\n",
    "    train_loss_list = []\n",
    "    valid_loss_list = []\n",
    "    global_steps_list = []\n",
    "\n",
    "    # training loop\n",
    "    model.train()\n",
    "    for epoch in range(num_epochs):\n",
    "        for (labels, title, text, titletext), _ in train_loader:\n",
    "            labels = labels.type(torch.LongTensor)           \n",
    "            labels = labels.to(device)\n",
    "            titletext = titletext.type(torch.LongTensor)  \n",
    "            titletext = titletext.to(device)\n",
    "            output = model(titletext, labels)\n",
    "            loss, _ = output\n",
    "\n",
    "            optimizer.zero_grad()\n",
    "            loss.backward()\n",
    "            optimizer.step()\n",
    "\n",
    "            # update running values\n",
    "            running_loss += loss.item()\n",
    "            global_step += 1\n",
    "\n",
    "            # evaluation step\n",
    "            if global_step % eval_every == 0:\n",
    "                model.eval()\n",
    "                with torch.no_grad():                    \n",
    "\n",
    "                    # validation loop\n",
    "                    for (labels, title, text, titletext), _ in valid_loader:\n",
    "                        labels = labels.type(torch.LongTensor)           \n",
    "                        labels = labels.to(device)\n",
    "                        titletext = titletext.type(torch.LongTensor)  \n",
    "                        titletext = titletext.to(device)\n",
    "                        output = model(titletext, labels)\n",
    "                        loss, _ = output\n",
    "                        \n",
    "                        valid_running_loss += loss.item()\n",
    "\n",
    "                # evaluation\n",
    "                average_train_loss = running_loss / eval_every\n",
    "                average_valid_loss = valid_running_loss / len(valid_loader)\n",
    "                train_loss_list.append(average_train_loss)\n",
    "                valid_loss_list.append(average_valid_loss)\n",
    "                global_steps_list.append(global_step)\n",
    "\n",
    "                # resetting running values\n",
    "                running_loss = 0.0                \n",
    "                valid_running_loss = 0.0\n",
    "                model.train()\n",
    "\n",
    "                # print progress\n",
    "                print('Epoch [{}/{}], Step [{}/{}], Train Loss: {:.4f}, Valid Loss: {:.4f}'\n",
    "                      .format(epoch+1, num_epochs, global_step, num_epochs*len(train_loader),\n",
    "                              average_train_loss, average_valid_loss))\n",
    "                \n",
    "                # checkpoint\n",
    "                if best_valid_loss > average_valid_loss:\n",
    "                    best_valid_loss = average_valid_loss\n",
    "                    save_checkpoint(file_path + '/' + 'model.pt', model, best_valid_loss)\n",
    "                    save_metrics(file_path + '/' + 'metrics.pt', train_loss_list, valid_loss_list, global_steps_list)\n",
    "    \n",
    "    save_metrics(file_path + '/' + 'metrics.pt', train_loss_list, valid_loss_list, global_steps_list)\n",
    "    print('Finished Training!')"
   ]
  },
  {
   "cell_type": "markdown",
   "metadata": {
    "id": "lWvZrF4oetKs"
   },
   "source": [
    "Selanjutnya untuk proses training, menggunakan model indoBert yang telah dibuat tadi dan optimizer menggunakan Adam dimana learning rate yang digunakan cukup kecil yaitu 4e-5 karena kita menggunakan model yang telah di train sebelumnya. Untuk criterion digunakan BCEloss (Binary CrossEntropy) karena disini kita melakukan binary classification. Training ini dilakukan sebanyak 10 epoch agar menghasilkan hasil yang cukup baik."
   ]
  },
  {
   "cell_type": "code",
   "execution_count": 11,
   "metadata": {
    "colab": {
     "base_uri": "https://localhost:8080/"
    },
    "id": "T1FkLJ-rTPRy",
    "outputId": "ff14ad14-b778-4ae7-9e97-c6bf059f74dd"
   },
   "outputs": [
    {
     "name": "stderr",
     "output_type": "stream",
     "text": [
      "Some weights of the model checkpoint at indolem/indobert-base-uncased were not used when initializing BertForSequenceClassification: ['cls.predictions.bias', 'cls.predictions.transform.dense.weight', 'cls.predictions.transform.dense.bias', 'cls.predictions.transform.LayerNorm.weight', 'cls.predictions.transform.LayerNorm.bias', 'cls.predictions.decoder.weight', 'cls.predictions.decoder.bias']\n",
      "- This IS expected if you are initializing BertForSequenceClassification from the checkpoint of a model trained on another task or with another architecture (e.g. initializing a BertForSequenceClassification model from a BertForPreTraining model).\n",
      "- This IS NOT expected if you are initializing BertForSequenceClassification from the checkpoint of a model that you expect to be exactly identical (initializing a BertForSequenceClassification model from a BertForSequenceClassification model).\n",
      "Some weights of BertForSequenceClassification were not initialized from the model checkpoint at indolem/indobert-base-uncased and are newly initialized: ['classifier.weight', 'classifier.bias']\n",
      "You should probably TRAIN this model on a down-stream task to be able to use it for predictions and inference.\n"
     ]
    },
    {
     "name": "stdout",
     "output_type": "stream",
     "text": [
      "Epoch [1/10], Step [1/30], Train Loss: 0.6395, Valid Loss: 0.5868\n",
      "Model saved to ==> Data/model.pt\n",
      "Model saved to ==> Data/metrics.pt\n",
      "Epoch [1/10], Step [2/30], Train Loss: 0.6530, Valid Loss: 0.6334\n",
      "Epoch [1/10], Step [3/30], Train Loss: 0.8769, Valid Loss: 0.4959\n",
      "Model saved to ==> Data/model.pt\n",
      "Model saved to ==> Data/metrics.pt\n",
      "Epoch [2/10], Step [4/30], Train Loss: 0.2497, Valid Loss: 0.4095\n",
      "Model saved to ==> Data/model.pt\n",
      "Model saved to ==> Data/metrics.pt\n",
      "Epoch [2/10], Step [5/30], Train Loss: 0.3439, Valid Loss: 0.3844\n",
      "Model saved to ==> Data/model.pt\n",
      "Model saved to ==> Data/metrics.pt\n",
      "Epoch [2/10], Step [6/30], Train Loss: 0.2914, Valid Loss: 0.3481\n",
      "Model saved to ==> Data/model.pt\n",
      "Model saved to ==> Data/metrics.pt\n",
      "Epoch [3/10], Step [7/30], Train Loss: 0.1475, Valid Loss: 0.3139\n",
      "Model saved to ==> Data/model.pt\n",
      "Model saved to ==> Data/metrics.pt\n",
      "Epoch [3/10], Step [8/30], Train Loss: 0.1989, Valid Loss: 0.2698\n",
      "Model saved to ==> Data/model.pt\n",
      "Model saved to ==> Data/metrics.pt\n",
      "Epoch [3/10], Step [9/30], Train Loss: 0.1296, Valid Loss: 0.2185\n",
      "Model saved to ==> Data/model.pt\n",
      "Model saved to ==> Data/metrics.pt\n",
      "Epoch [4/10], Step [10/30], Train Loss: 0.0581, Valid Loss: 0.1855\n",
      "Model saved to ==> Data/model.pt\n",
      "Model saved to ==> Data/metrics.pt\n",
      "Epoch [4/10], Step [11/30], Train Loss: 0.0602, Valid Loss: 0.1685\n",
      "Model saved to ==> Data/model.pt\n",
      "Model saved to ==> Data/metrics.pt\n",
      "Epoch [4/10], Step [12/30], Train Loss: 0.0677, Valid Loss: 0.1369\n",
      "Model saved to ==> Data/model.pt\n",
      "Model saved to ==> Data/metrics.pt\n",
      "Epoch [5/10], Step [13/30], Train Loss: 0.0303, Valid Loss: 0.1072\n",
      "Model saved to ==> Data/model.pt\n",
      "Model saved to ==> Data/metrics.pt\n",
      "Epoch [5/10], Step [14/30], Train Loss: 0.0203, Valid Loss: 0.0832\n",
      "Model saved to ==> Data/model.pt\n",
      "Model saved to ==> Data/metrics.pt\n",
      "Epoch [5/10], Step [15/30], Train Loss: 0.0247, Valid Loss: 0.0605\n",
      "Model saved to ==> Data/model.pt\n",
      "Model saved to ==> Data/metrics.pt\n",
      "Epoch [6/10], Step [16/30], Train Loss: 0.0142, Valid Loss: 0.0463\n",
      "Model saved to ==> Data/model.pt\n",
      "Model saved to ==> Data/metrics.pt\n",
      "Epoch [6/10], Step [17/30], Train Loss: 0.0107, Valid Loss: 0.0377\n",
      "Model saved to ==> Data/model.pt\n",
      "Model saved to ==> Data/metrics.pt\n",
      "Epoch [6/10], Step [18/30], Train Loss: 0.0113, Valid Loss: 0.0315\n",
      "Model saved to ==> Data/model.pt\n",
      "Model saved to ==> Data/metrics.pt\n",
      "Epoch [7/10], Step [19/30], Train Loss: 0.0075, Valid Loss: 0.0268\n",
      "Model saved to ==> Data/model.pt\n",
      "Model saved to ==> Data/metrics.pt\n",
      "Epoch [7/10], Step [20/30], Train Loss: 0.0069, Valid Loss: 0.0227\n",
      "Model saved to ==> Data/model.pt\n",
      "Model saved to ==> Data/metrics.pt\n",
      "Epoch [7/10], Step [21/30], Train Loss: 0.0063, Valid Loss: 0.0194\n",
      "Model saved to ==> Data/model.pt\n",
      "Model saved to ==> Data/metrics.pt\n",
      "Epoch [8/10], Step [22/30], Train Loss: 0.0052, Valid Loss: 0.0165\n",
      "Model saved to ==> Data/model.pt\n",
      "Model saved to ==> Data/metrics.pt\n",
      "Epoch [8/10], Step [23/30], Train Loss: 0.0046, Valid Loss: 0.0139\n",
      "Model saved to ==> Data/model.pt\n",
      "Model saved to ==> Data/metrics.pt\n",
      "Epoch [8/10], Step [24/30], Train Loss: 0.0040, Valid Loss: 0.0118\n",
      "Model saved to ==> Data/model.pt\n",
      "Model saved to ==> Data/metrics.pt\n",
      "Epoch [9/10], Step [25/30], Train Loss: 0.0037, Valid Loss: 0.0100\n",
      "Model saved to ==> Data/model.pt\n",
      "Model saved to ==> Data/metrics.pt\n",
      "Epoch [9/10], Step [26/30], Train Loss: 0.0030, Valid Loss: 0.0086\n",
      "Model saved to ==> Data/model.pt\n",
      "Model saved to ==> Data/metrics.pt\n",
      "Epoch [9/10], Step [27/30], Train Loss: 0.0028, Valid Loss: 0.0074\n",
      "Model saved to ==> Data/model.pt\n",
      "Model saved to ==> Data/metrics.pt\n",
      "Epoch [10/10], Step [28/30], Train Loss: 0.0026, Valid Loss: 0.0065\n",
      "Model saved to ==> Data/model.pt\n",
      "Model saved to ==> Data/metrics.pt\n",
      "Epoch [10/10], Step [29/30], Train Loss: 0.0022, Valid Loss: 0.0057\n",
      "Model saved to ==> Data/model.pt\n",
      "Model saved to ==> Data/metrics.pt\n",
      "Epoch [10/10], Step [30/30], Train Loss: 0.0022, Valid Loss: 0.0051\n",
      "Model saved to ==> Data/model.pt\n",
      "Model saved to ==> Data/metrics.pt\n",
      "Model saved to ==> Data/metrics.pt\n",
      "Finished Training!\n"
     ]
    }
   ],
   "source": [
    "model = BERT().to(device)\n",
    "optimizer = optim.Adam(model.parameters(), lr=4e-5)\n",
    "\n",
    "train(model=model, optimizer=optimizer)"
   ]
  },
  {
   "cell_type": "markdown",
   "metadata": {
    "id": "VkDRlCPjf9LH"
   },
   "source": [
    "### B. Analisa dari hasil pelatihan"
   ]
  },
  {
   "cell_type": "code",
   "execution_count": 12,
   "metadata": {
    "colab": {
     "base_uri": "https://localhost:8080/",
     "height": 296
    },
    "id": "AEb2HNNDTRsq",
    "outputId": "dbe1efc9-163e-4e5e-880b-ae1cfbe50039"
   },
   "outputs": [
    {
     "name": "stdout",
     "output_type": "stream",
     "text": [
      "Model loaded from <== Data/metrics.pt\n"
     ]
    },
    {
     "data": {
      "image/png": "[encoded data removed]",
      "text/plain": [
       "<Figure size 432x288 with 1 Axes>"
      ]
     },
     "metadata": {
      "needs_background": "light",
      "tags": []
     },
     "output_type": "display_data"
    }
   ],
   "source": [
    "train_loss_list, valid_loss_list, global_steps_list = load_metrics('Data/metrics.pt')\n",
    "plt.plot(global_steps_list, train_loss_list, label='Train')\n",
    "plt.plot(global_steps_list, valid_loss_list, label='Valid')\n",
    "plt.xlabel('Global Steps')\n",
    "plt.ylabel('Loss')\n",
    "plt.legend()\n",
    "plt.show() "
   ]
  },
  {
   "cell_type": "markdown",
   "metadata": {
    "id": "KWpj9lengIbq"
   },
   "source": [
    "Dari hasil training yang telah dilakukan, valid loss dan training loss yang dapat dilihat pada grafik dibawah ini cukup baik hingga mendekati 0 dan tidak terdapat gap/jarak antara kedua grafik sehingga menandakan model ini dilatih cukup baik dan tidak menunjukan overfitting pada model ini."
   ]
  },
  {
   "cell_type": "code",
   "execution_count": 13,
   "metadata": {
    "id": "4XnuObA4TU6D"
   },
   "outputs": [],
   "source": [
    "# Evaluation Function\n",
    "def evaluate(model, test_loader): \n",
    "    y_pred = []\n",
    "    y_true = []\n",
    "\n",
    "    model.eval()\n",
    "    with torch.no_grad():\n",
    "        for (labels, title, text, titletext), _ in test_loader:\n",
    "\n",
    "                labels = labels.type(torch.LongTensor)           \n",
    "                labels = labels.to(device)\n",
    "                titletext = titletext.type(torch.LongTensor)  \n",
    "                titletext = titletext.to(device)\n",
    "                output = model(titletext, labels)\n",
    "\n",
    "                _, output = output\n",
    "                y_pred.extend(torch.argmax(output, 1).tolist())\n",
    "                y_true.extend(labels.tolist())\n",
    "    \n",
    "    print('Classification Report:')\n",
    "    print(classification_report(y_true, y_pred, labels=[1,0], digits=4))\n",
    "    \n",
    "    cm = confusion_matrix(y_true, y_pred, labels=[1,0])\n",
    "    ax= plt.subplot()\n",
    "    sns.heatmap(cm, annot=True, ax = ax, cmap='Blues', fmt=\"d\")\n",
    "\n",
    "    ax.set_title('Confusion Matrix')\n",
    "\n",
    "    ax.set_xlabel('Predicted Labels')\n",
    "    ax.set_ylabel('True Labels')\n",
    "\n",
    "    ax.xaxis.set_ticklabels(['Kesehatan', 'Culture'])\n",
    "    ax.yaxis.set_ticklabels(['Kesehatan', 'Culture'])"
   ]
  },
  {
   "cell_type": "code",
   "execution_count": 14,
   "metadata": {
    "colab": {
     "base_uri": "https://localhost:8080/",
     "height": 584
    },
    "id": "jr0LkRdlTW6l",
    "outputId": "65348a59-b4b3-4e6e-9866-d241f2f801ef"
   },
   "outputs": [
    {
     "name": "stderr",
     "output_type": "stream",
     "text": [
      "Some weights of the model checkpoint at indolem/indobert-base-uncased were not used when initializing BertForSequenceClassification: ['cls.predictions.bias', 'cls.predictions.transform.dense.weight', 'cls.predictions.transform.dense.bias', 'cls.predictions.transform.LayerNorm.weight', 'cls.predictions.transform.LayerNorm.bias', 'cls.predictions.decoder.weight', 'cls.predictions.decoder.bias']\n",
      "- This IS expected if you are initializing BertForSequenceClassification from the checkpoint of a model trained on another task or with another architecture (e.g. initializing a BertForSequenceClassification model from a BertForPreTraining model).\n",
      "- This IS NOT expected if you are initializing BertForSequenceClassification from the checkpoint of a model that you expect to be exactly identical (initializing a BertForSequenceClassification model from a BertForSequenceClassification model).\n",
      "Some weights of BertForSequenceClassification were not initialized from the model checkpoint at indolem/indobert-base-uncased and are newly initialized: ['classifier.weight', 'classifier.bias']\n",
      "You should probably TRAIN this model on a down-stream task to be able to use it for predictions and inference.\n"
     ]
    },
    {
     "name": "stdout",
     "output_type": "stream",
     "text": [
      "Model loaded from <== Data/model.pt\n",
      "Classification Report:\n",
      "              precision    recall  f1-score   support\n",
      "\n",
      "           1     1.0000    0.9500    0.9744        20\n",
      "           0     0.9524    1.0000    0.9756        20\n",
      "\n",
      "    accuracy                         0.9750        40\n",
      "   macro avg     0.9762    0.9750    0.9750        40\n",
      "weighted avg     0.9762    0.9750    0.9750        40\n",
      "\n"
     ]
    },
    {
     "data": {
      "image/png": "[encoded data removed]",
      "text/plain": [
       "<Figure size 432x288 with 2 Axes>"
      ]
     },
     "metadata": {
      "needs_background": "light",
      "tags": []
     },
     "output_type": "display_data"
    }
   ],
   "source": [
    "best_model = BERT().to(device)\n",
    "\n",
    "load_checkpoint('Data/model.pt', best_model)\n",
    "\n",
    "evaluate(best_model, test_iter)"
   ]
  },
  {
   "cell_type": "markdown",
   "metadata": {
    "id": "CysHzHREgb6O"
   },
   "source": [
    "Hasil yang didapatkan dari model ini sudah sangat baik dimana dari 40 data test hanya terdapat 1 data yang dikategorikan tidak sesuai. Akurasi yang didapatkan sudah sangat tinggi yaitu 97.5%. Oleh karena itu, model deep learning untuk mengklasifikasikan kategori dari berita berbahasa indonesia ini sudah berjalan sangat baik tanpa overfitting."
   ]
  },
  {
   "cell_type": "markdown",
   "metadata": {
    "id": "LEgB4scrkqbX"
   },
   "source": [
    "### C. Keunikan dari model deep learning"
   ]
  },
  {
   "cell_type": "markdown",
   "metadata": {
    "id": "v7ym2DlDkwIr"
   },
   "source": [
    "Model yang digunakan untuk klasifikasi kategori news yang berbahasa indonesia adalah model pre-trained dari IndoBert yaitu 'indobert-base-uncased' dari indoNLU (huggingface) dimana model ini merupakan model bert untuk Bahasa Indonesia yang di trained menggunakan 220M kata dari wikipedia, artikel, dan web corpus. Model ini ditrain sebanyak 2.4M langkah (180 epochs). \n",
    "\n",
    "BERT (Bidirectional Encoder Representations from Transformers) merupakan transfer learning yang menggunakan mekanisme attention yang mempelajari hubungan kontekstual antara kata di text. Kata pada text diubah menjadi vector yang kemudian di proses menggunakan neural network.\n",
    "\n",
    "Model ini sudah sangat sesuai dengan kebutuhan klasifikasi berita ini dimana menghasilkan hasil yang sangat baik dengan accuracy 97.5%."
   ]
  }
 ],
 "metadata": {
  "accelerator": "GPU",
  "colab": {
   "collapsed_sections": [],
   "name": "NewsClassification.ipynb",
   "provenance": []
  },
  "kernelspec": {
   "display_name": "Python 3",
   "language": "python",
   "name": "python3"
  },
  "language_info": {
   "codemirror_mode": {
    "name": "ipython",
    "version": 3
   },
   "file_extension": ".py",
   "mimetype": "text/x-python",
   "name": "python",
   "nbconvert_exporter": "python",
   "pygments_lexer": "ipython3",
   "version": "3.6.8"
  }
 },
 "nbformat": 4,
 "nbformat_minor": 1
}
